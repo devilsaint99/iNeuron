{
 "cells": [
  {
   "cell_type": "markdown",
   "metadata": {},
   "source": [
    "### Write a Python program to convert kilometers to miles?"
   ]
  },
  {
   "cell_type": "code",
   "execution_count": 6,
   "metadata": {},
   "outputs": [
    {
     "name": "stdout",
     "output_type": "stream",
     "text": [
      "Enter Value in Kilometers : 20\n",
      "20.0 Km in miles are 12.427999999999999\n"
     ]
    }
   ],
   "source": [
    "km=float(input('Enter Value in Kilometers : '))\n",
    "print(f'{km} Km in miles are {0.6214*km}')"
   ]
  },
  {
   "cell_type": "markdown",
   "metadata": {},
   "source": [
    "### Write a Python program to convert Celsius to Fahrenheit?"
   ]
  },
  {
   "cell_type": "code",
   "execution_count": 8,
   "metadata": {},
   "outputs": [
    {
     "name": "stdout",
     "output_type": "stream",
     "text": [
      "Enter degree Celcsius : 100\n",
      "100.0 degree celsius is 212.0\n"
     ]
    }
   ],
   "source": [
    "celsius=float(input(\"Enter degree Celcsius : \"))\n",
    "print(f'{celsius} degree celsius is {celsius*(9/5)+32}')"
   ]
  },
  {
   "cell_type": "markdown",
   "metadata": {},
   "source": [
    "### Write a Python program to display calendar?"
   ]
  },
  {
   "cell_type": "code",
   "execution_count": 16,
   "metadata": {},
   "outputs": [
    {
     "name": "stdout",
     "output_type": "stream",
     "text": [
      "Year1999\n",
      "month12\n",
      "\n",
      "   December 1999\n",
      "Mo Tu We Th Fr Sa Su\n",
      "       1  2  3  4  5\n",
      " 6  7  8  9 10 11 12\n",
      "13 14 15 16 17 18 19\n",
      "20 21 22 23 24 25 26\n",
      "27 28 29 30 31\n",
      "\n"
     ]
    }
   ],
   "source": [
    "import calendar as cm\n",
    "year=int(input('Year'))\n",
    "month=int(input('month'))\n",
    "\n",
    "print('\\n'+cm.month(year,month))"
   ]
  },
  {
   "cell_type": "markdown",
   "metadata": {},
   "source": [
    "### Write a Python program to solve quadratic equation?"
   ]
  },
  {
   "cell_type": "code",
   "execution_count": 2,
   "metadata": {},
   "outputs": [
    {
     "name": "stdout",
     "output_type": "stream",
     "text": [
      "Give value of a: 2\n",
      "Give value of b: 3\n",
      "Give value of c: 4\n",
      "Roots are:  (-3+4.795831523312719j) (-3-4.795831523312719j)\n"
     ]
    }
   ],
   "source": [
    "import cmath\n",
    "a=int(input('Give value of a: '))\n",
    "b=int(input('Give value of b: '))\n",
    "c=int(input('Give value of c: '))\n",
    "disc=b**2-4*a*c\n",
    "r1=(-b+cmath.sqrt(disc))/2*a\n",
    "r2=(-b-cmath.sqrt(disc))/2*a\n",
    "print('Roots are: ',r1,r2)"
   ]
  },
  {
   "cell_type": "markdown",
   "metadata": {},
   "source": [
    "### Write a Python program to swap two variables without temp variable?"
   ]
  },
  {
   "cell_type": "code",
   "execution_count": 18,
   "metadata": {},
   "outputs": [
    {
     "name": "stdout",
     "output_type": "stream",
     "text": [
      "12\n",
      "24\n",
      "New First Number : 24\n",
      "New Second Number : 12\n"
     ]
    }
   ],
   "source": [
    "first=int(input())\n",
    "second=int(input())\n",
    "\n",
    "first,second=second,first\n",
    "\n",
    "print('New First Number :',first)\n",
    "print('New Second Number :',second)"
   ]
  },
  {
   "cell_type": "code",
   "execution_count": null,
   "metadata": {},
   "outputs": [],
   "source": []
  }
 ],
 "metadata": {
  "kernelspec": {
   "display_name": "Python 3",
   "language": "python",
   "name": "python3"
  },
  "language_info": {
   "codemirror_mode": {
    "name": "ipython",
    "version": 3
   },
   "file_extension": ".py",
   "mimetype": "text/x-python",
   "name": "python",
   "nbconvert_exporter": "python",
   "pygments_lexer": "ipython3",
   "version": "3.7.3"
  }
 },
 "nbformat": 4,
 "nbformat_minor": 2
}
